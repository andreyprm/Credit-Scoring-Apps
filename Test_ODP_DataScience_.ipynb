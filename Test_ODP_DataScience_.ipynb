{
  "nbformat": 4,
  "nbformat_minor": 0,
  "metadata": {
    "kernelspec": {
      "display_name": "Python 3",
      "language": "python",
      "name": "python3"
    },
    "language_info": {
      "codemirror_mode": {
        "name": "ipython",
        "version": 3
      },
      "file_extension": ".py",
      "mimetype": "text/x-python",
      "name": "python",
      "nbconvert_exporter": "python",
      "pygments_lexer": "ipython3",
      "version": "3.7.4"
    },
    "colab": {
      "name": "Copy of Test BNI ODP DS-CopyTest.ipynb",
      "provenance": [],
      "collapsed_sections": [
        "cRkA4Avwt9nm",
        "Gio-cHWVt9no",
        "I3-D28lKt9nt",
        "1b7HaZ-lt9nw",
        "R8OQadqQt9nz",
        "JBjOzkdAt9n1",
        "YrMHoPMyt9n2",
        "QGIJCWqPt9n3"
      ],
      "include_colab_link": true
    }
  },
  "cells": [
    {
      "cell_type": "markdown",
      "metadata": {
        "id": "view-in-github",
        "colab_type": "text"
      },
      "source": [
        "<a href=\"https://colab.research.google.com/github/andreyprm/Credit-Scoring-Apps/blob/main/Test_ODP_DataScience_.ipynb\" target=\"_parent\"><img src=\"https://colab.research.google.com/assets/colab-badge.svg\" alt=\"Open In Colab\"/></a>"
      ]
    },
    {
      "cell_type": "code",
      "metadata": {
        "id": "OtXymM5Tt9nI"
      },
      "source": [
        "import pandas as pd\n",
        "import matplotlib.pyplot as plt\n",
        "import numpy as np\n",
        "import seaborn as sns\n",
        "sns.set_style('whitegrid')\n",
        "\n",
        "import warnings\n",
        "warnings.filterwarnings(\"ignore\")"
      ],
      "execution_count": null,
      "outputs": []
    },
    {
      "cell_type": "code",
      "metadata": {
        "id": "oALvF5Vlt9nX"
      },
      "source": [
        "df = pd.read_csv('application_train.csv')"
      ],
      "execution_count": null,
      "outputs": []
    },
    {
      "cell_type": "code",
      "metadata": {
        "id": "V4fzKQUat9nZ",
        "outputId": "fe22b6aa-99aa-46de-e058-22c7b5fadeab"
      },
      "source": [
        "df.info()"
      ],
      "execution_count": null,
      "outputs": [
        {
          "output_type": "stream",
          "text": [
            "<class 'pandas.core.frame.DataFrame'>\n",
            "RangeIndex: 307511 entries, 0 to 307510\n",
            "Columns: 122 entries, SK_ID_CURR to AMT_REQ_CREDIT_BUREAU_YEAR\n",
            "dtypes: float64(65), int64(41), object(16)\n",
            "memory usage: 286.2+ MB\n"
          ],
          "name": "stdout"
        }
      ]
    },
    {
      "cell_type": "code",
      "metadata": {
        "id": "8kNoxDYjt9nb",
        "outputId": "56434127-53fc-4052-ed22-b2efee7b4bcd"
      },
      "source": [
        "df['TARGET'].value_counts(normalize=True)"
      ],
      "execution_count": null,
      "outputs": [
        {
          "output_type": "execute_result",
          "data": {
            "text/plain": [
              "0    0.919271\n",
              "1    0.080729\n",
              "Name: TARGET, dtype: float64"
            ]
          },
          "metadata": {
            "tags": []
          },
          "execution_count": 4
        }
      ]
    },
    {
      "cell_type": "code",
      "metadata": {
        "id": "LsJw3gMEt9nd",
        "outputId": "0bbcc1c3-a985-46e0-fb89-143a361f6bc9"
      },
      "source": [
        "sns.countplot(df['NAME_CONTRACT_TYPE'], hue=df['TARGET'])"
      ],
      "execution_count": null,
      "outputs": [
        {
          "output_type": "execute_result",
          "data": {
            "text/plain": [
              "<matplotlib.axes._subplots.AxesSubplot at 0x15715930188>"
            ]
          },
          "metadata": {
            "tags": []
          },
          "execution_count": 5
        },
        {
          "output_type": "display_data",
          "data": {
            "image/png": "[encoded data removed]",
            "text/plain": [
              "<Figure size 432x288 with 1 Axes>"
            ]
          },
          "metadata": {
            "tags": []
          }
        }
      ]
    },
    {
      "cell_type": "code",
      "metadata": {
        "id": "PFuA-nX3t9ne",
        "outputId": "0c41c008-056a-4577-a0a3-4a00a78f8588"
      },
      "source": [
        "sns.countplot(df['CODE_GENDER'], hue=df['TARGET'])"
      ],
      "execution_count": null,
      "outputs": [
        {
          "output_type": "execute_result",
          "data": {
            "text/plain": [
              "<matplotlib.axes._subplots.AxesSubplot at 0x157163eecc8>"
            ]
          },
          "metadata": {
            "tags": []
          },
          "execution_count": 6
        },
        {
          "output_type": "display_data",
          "data": {
            "image/png": "[encoded data removed]",
            "text/plain": [
              "<Figure size 432x288 with 1 Axes>"
            ]
          },
          "metadata": {
            "tags": []
          }
        }
      ]
    },
    {
      "cell_type": "code",
      "metadata": {
        "id": "jTrlckSAt9nf"
      },
      "source": [
        "df_x = df.dropna(inplace=True)"
      ],
      "execution_count": null,
      "outputs": []
    },
    {
      "cell_type": "code",
      "metadata": {
        "id": "mQf0hzxNt9nf",
        "outputId": "783a7af7-0338-49a8-961d-3fa73296400b"
      },
      "source": [
        "df.groupby(['CODE_GENDER', 'TARGET'])['TARGET'].count()"
      ],
      "execution_count": null,
      "outputs": [
        {
          "output_type": "execute_result",
          "data": {
            "text/plain": [
              "CODE_GENDER  TARGET\n",
              "F            0         3997\n",
              "             1          224\n",
              "M            0         4079\n",
              "             1          302\n",
              "Name: TARGET, dtype: int64"
            ]
          },
          "metadata": {
            "tags": []
          },
          "execution_count": 8
        }
      ]
    },
    {
      "cell_type": "code",
      "metadata": {
        "id": "eTVVljY2t9ng",
        "outputId": "864267e6-1e25-4aa6-c193-0e69bebda69e"
      },
      "source": [
        "df.groupby(['NAME_CONTRACT_TYPE', 'TARGET'])['TARGET'].count()"
      ],
      "execution_count": null,
      "outputs": [
        {
          "output_type": "execute_result",
          "data": {
            "text/plain": [
              "NAME_CONTRACT_TYPE  TARGET\n",
              "Cash loans          0         7162\n",
              "                    1          498\n",
              "Revolving loans     0          914\n",
              "                    1           28\n",
              "Name: TARGET, dtype: int64"
            ]
          },
          "metadata": {
            "tags": []
          },
          "execution_count": 9
        }
      ]
    },
    {
      "cell_type": "code",
      "metadata": {
        "id": "eruXthr1t9nh",
        "outputId": "c7c1c44a-b1a9-4760-9b3c-87fd969ede64"
      },
      "source": [
        "df['CODE_GENDER'].value_counts(normalize=True)"
      ],
      "execution_count": null,
      "outputs": [
        {
          "output_type": "execute_result",
          "data": {
            "text/plain": [
              "M    0.5093\n",
              "F    0.4907\n",
              "Name: CODE_GENDER, dtype: float64"
            ]
          },
          "metadata": {
            "tags": []
          },
          "execution_count": 10
        }
      ]
    },
    {
      "cell_type": "code",
      "metadata": {
        "id": "pDNOEi8zt9ni",
        "outputId": "1838f642-7f01-43ad-f992-ea455a2f5d17"
      },
      "source": [
        "sns.scatterplot(df['AMT_INCOME_TOTAL'], df['AMT_CREDIT'], hue=df['TARGET'])"
      ],
      "execution_count": null,
      "outputs": [
        {
          "output_type": "execute_result",
          "data": {
            "text/plain": [
              "<matplotlib.axes._subplots.AxesSubplot at 0x157158d3b08>"
            ]
          },
          "metadata": {
            "tags": []
          },
          "execution_count": 11
        },
        {
          "output_type": "display_data",
          "data": {
            "image/png": "[encoded data removed]",
            "text/plain": [
              "<Figure size 432x288 with 1 Axes>"
            ]
          },
          "metadata": {
            "tags": []
          }
        }
      ]
    },
    {
      "cell_type": "code",
      "metadata": {
        "id": "sO4Q2h0ft9nj",
        "outputId": "9850bc33-33b8-4d15-9529-e83b9eabf052"
      },
      "source": [
        "df['TARGET'].value_counts(normalize=True)"
      ],
      "execution_count": null,
      "outputs": [
        {
          "output_type": "execute_result",
          "data": {
            "text/plain": [
              "0    0.938851\n",
              "1    0.061149\n",
              "Name: TARGET, dtype: float64"
            ]
          },
          "metadata": {
            "tags": []
          },
          "execution_count": 12
        }
      ]
    },
    {
      "cell_type": "code",
      "metadata": {
        "id": "tgItNsi2t9nk",
        "outputId": "2fd47e80-0e68-4ba4-c2fb-f42f21c70fe7"
      },
      "source": [
        "sns.countplot(df['TARGET'])"
      ],
      "execution_count": null,
      "outputs": [
        {
          "output_type": "execute_result",
          "data": {
            "text/plain": [
              "<matplotlib.axes._subplots.AxesSubplot at 0x15715842a48>"
            ]
          },
          "metadata": {
            "tags": []
          },
          "execution_count": 13
        },
        {
          "output_type": "display_data",
          "data": {
            "image/png": "[encoded data removed]",
            "text/plain": [
              "<Figure size 432x288 with 1 Axes>"
            ]
          },
          "metadata": {
            "tags": []
          }
        }
      ]
    },
    {
      "cell_type": "code",
      "metadata": {
        "id": "ZS6cP2EQt9nk",
        "outputId": "d7f134c9-6bb3-4298-86eb-dfdadf37aca8"
      },
      "source": [
        "df['TARGET'].value_counts(normalize=True)"
      ],
      "execution_count": null,
      "outputs": [
        {
          "output_type": "execute_result",
          "data": {
            "text/plain": [
              "0    0.938851\n",
              "1    0.061149\n",
              "Name: TARGET, dtype: float64"
            ]
          },
          "metadata": {
            "tags": []
          },
          "execution_count": 14
        }
      ]
    },
    {
      "cell_type": "code",
      "metadata": {
        "id": "wf14y9c3t9nl",
        "outputId": "e303eb5b-2a67-405a-a73f-ade9ceee92ea"
      },
      "source": [
        "sns.countplot(df['TARGET'])"
      ],
      "execution_count": null,
      "outputs": [
        {
          "output_type": "execute_result",
          "data": {
            "text/plain": [
              "<matplotlib.axes._subplots.AxesSubplot at 0x1571679f488>"
            ]
          },
          "metadata": {
            "tags": []
          },
          "execution_count": 15
        },
        {
          "output_type": "display_data",
          "data": {
            "image/png": "[encoded data removed]",
            "text/plain": [
              "<Figure size 432x288 with 1 Axes>"
            ]
          },
          "metadata": {
            "tags": []
          }
        }
      ]
    },
    {
      "cell_type": "markdown",
      "metadata": {
        "id": "cRkA4Avwt9nm"
      },
      "source": [
        "## Feature Engineering"
      ]
    },
    {
      "cell_type": "code",
      "metadata": {
        "id": "VCHqfSr3t9nm"
      },
      "source": [
        "feature = pd.get_dummies(df.drop('TARGET', axis=1), drop_first=True)\n",
        "target  = df['TARGET']"
      ],
      "execution_count": null,
      "outputs": []
    },
    {
      "cell_type": "code",
      "metadata": {
        "id": "WaNbDIzkt9nn"
      },
      "source": [
        "from sklearn.model_selection import train_test_split\n",
        "\n",
        "X_train, X_test, y_train, y_test = train_test_split(feature, target, random_state=101, test_size=0.3)"
      ],
      "execution_count": null,
      "outputs": []
    },
    {
      "cell_type": "markdown",
      "metadata": {
        "id": "Gio-cHWVt9no"
      },
      "source": [
        "## Model Selection"
      ]
    },
    {
      "cell_type": "code",
      "metadata": {
        "scrolled": true,
        "id": "GQwyqheHt9no"
      },
      "source": [
        "from sklearn.tree import DecisionTreeClassifier\n",
        "from sklearn.ensemble import RandomForestClassifier\n",
        "from sklearn.neighbors import KNeighborsClassifier\n",
        "from xgboost import XGBClassifier\n",
        "from sklearn.naive_bayes import GaussianNB"
      ],
      "execution_count": null,
      "outputs": []
    },
    {
      "cell_type": "code",
      "metadata": {
        "id": "E9VW1oAGt9np"
      },
      "source": [
        "from sklearn.metrics import accuracy_score, log_loss, f1_score, recall_score, classification_report, confusion_matrix"
      ],
      "execution_count": null,
      "outputs": []
    },
    {
      "cell_type": "code",
      "metadata": {
        "id": "zw4np5oOt9np"
      },
      "source": [
        "models = [DecisionTreeClassifier, RandomForestClassifier, KNeighborsClassifier, XGBClassifier]"
      ],
      "execution_count": null,
      "outputs": []
    },
    {
      "cell_type": "code",
      "metadata": {
        "id": "ul65WH36t9nq"
      },
      "source": [
        "from imblearn.over_sampling import RandomOverSampler\n",
        "ros = RandomOverSampler()"
      ],
      "execution_count": null,
      "outputs": []
    },
    {
      "cell_type": "code",
      "metadata": {
        "id": "0brHGuO8t9nq"
      },
      "source": [
        "def score_algorithm(X, y, model):\n",
        "    X_train, X_test, y_train, y_test = train_test_split(X, y, test_size=0.2, random_state=101)\n",
        "    algorithm = model()\n",
        "#     \n",
        "    ros = RandomOverSampler(random_state=101)\n",
        "#    \n",
        "    X_ros, y_ros = ros.fit_sample(X_train, y_train)\n",
        "      \n",
        "    #evaluation model Random Over Sampling\n",
        "    algorithm.fit(X_ros, y_ros)\n",
        "    prediction_ros = algorithm.predict(X_test)\n",
        "    accuracy_ros =  accuracy_score(y_test, prediction_ros)\n",
        "    recall_ros = recall_score(y_test, prediction_ros)\n",
        "    f1_ros = f1_score(y_test,prediction_ros)\n",
        "    log_ros = log_loss(y_test, prediction_ros)\n",
        "    \n",
        "    #evaluation model test\n",
        "    algorithm = model()\n",
        "    algorithm.fit(X_train, y_train)\n",
        "    prediction_test = algorithm.predict(X_test)\n",
        "    accuracy_test =  accuracy_score(y_test, prediction_test)\n",
        "    recall_test = recall_score(y_test, prediction_test)\n",
        "    f1_test = f1_score(y_test,prediction_test)\n",
        "    log_test = log_loss(y_test, prediction_test)\n",
        "        \n",
        "    all_score = [ accuracy_test, recall_test, f1_test, log_test, accuracy_ros, recall_ros, f1_ros, log_ros]\n",
        "    return all_score"
      ],
      "execution_count": null,
      "outputs": []
    },
    {
      "cell_type": "code",
      "metadata": {
        "id": "w94r-VgQt9nr"
      },
      "source": [
        "score_all = []\n",
        "for i in models:\n",
        "    skor = score_algorithm(feature, target, i)\n",
        "    score_all.append(skor)"
      ],
      "execution_count": null,
      "outputs": []
    },
    {
      "cell_type": "code",
      "metadata": {
        "id": "87yDIKo6t9ns",
        "outputId": "9294c26a-c314-48b6-b740-4551db4e9d77"
      },
      "source": [
        "df_score = pd.DataFrame(score_all, columns = ['Accuracy_real','Recall_real', 'F1_real', 'LogLoss_real', 'Accuracy_ROS', 'Recall_ROS', 'F1_ROS', 'LogLoss_ROS'], index=['DecisionTreeClassifier', 'RandomForestClassifier', 'KNNeighbors', 'XGBClassifier'])\n",
        "df_score"
      ],
      "execution_count": null,
      "outputs": [
        {
          "output_type": "execute_result",
          "data": {
            "text/html": [
              "<div>\n",
              "<style scoped>\n",
              "    .dataframe tbody tr th:only-of-type {\n",
              "        vertical-align: middle;\n",
              "    }\n",
              "\n",
              "    .dataframe tbody tr th {\n",
              "        vertical-align: top;\n",
              "    }\n",
              "\n",
              "    .dataframe thead th {\n",
              "        text-align: right;\n",
              "    }\n",
              "</style>\n",
              "<table border=\"1\" class=\"dataframe\">\n",
              "  <thead>\n",
              "    <tr style=\"text-align: right;\">\n",
              "      <th></th>\n",
              "      <th>Accuracy_real</th>\n",
              "      <th>Recall_real</th>\n",
              "      <th>F1_real</th>\n",
              "      <th>LogLoss_real</th>\n",
              "      <th>Accuracy_ROS</th>\n",
              "      <th>Recall_ROS</th>\n",
              "      <th>F1_ROS</th>\n",
              "      <th>LogLoss_ROS</th>\n",
              "    </tr>\n",
              "  </thead>\n",
              "  <tbody>\n",
              "    <tr>\n",
              "      <th>DecisionTreeClassifier</th>\n",
              "      <td>0.886113</td>\n",
              "      <td>0.16</td>\n",
              "      <td>0.140351</td>\n",
              "      <td>3.933579</td>\n",
              "      <td>0.884370</td>\n",
              "      <td>0.09</td>\n",
              "      <td>0.082949</td>\n",
              "      <td>3.993784</td>\n",
              "    </tr>\n",
              "    <tr>\n",
              "      <th>RandomForestClassifier</th>\n",
              "      <td>0.941894</td>\n",
              "      <td>0.00</td>\n",
              "      <td>0.000000</td>\n",
              "      <td>2.006902</td>\n",
              "      <td>0.941894</td>\n",
              "      <td>0.00</td>\n",
              "      <td>0.000000</td>\n",
              "      <td>2.006902</td>\n",
              "    </tr>\n",
              "    <tr>\n",
              "      <th>KNNeighbors</th>\n",
              "      <td>0.936665</td>\n",
              "      <td>0.00</td>\n",
              "      <td>0.000000</td>\n",
              "      <td>2.187527</td>\n",
              "      <td>0.787914</td>\n",
              "      <td>0.22</td>\n",
              "      <td>0.107579</td>\n",
              "      <td>7.325324</td>\n",
              "    </tr>\n",
              "    <tr>\n",
              "      <th>XGBClassifier</th>\n",
              "      <td>0.941894</td>\n",
              "      <td>0.04</td>\n",
              "      <td>0.074074</td>\n",
              "      <td>2.006903</td>\n",
              "      <td>0.931435</td>\n",
              "      <td>0.05</td>\n",
              "      <td>0.078125</td>\n",
              "      <td>2.368155</td>\n",
              "    </tr>\n",
              "  </tbody>\n",
              "</table>\n",
              "</div>"
            ],
            "text/plain": [
              "                        Accuracy_real  Recall_real   F1_real  LogLoss_real  \\\n",
              "DecisionTreeClassifier       0.886113         0.16  0.140351      3.933579   \n",
              "RandomForestClassifier       0.941894         0.00  0.000000      2.006902   \n",
              "KNNeighbors                  0.936665         0.00  0.000000      2.187527   \n",
              "XGBClassifier                0.941894         0.04  0.074074      2.006903   \n",
              "\n",
              "                        Accuracy_ROS  Recall_ROS    F1_ROS  LogLoss_ROS  \n",
              "DecisionTreeClassifier      0.884370        0.09  0.082949     3.993784  \n",
              "RandomForestClassifier      0.941894        0.00  0.000000     2.006902  \n",
              "KNNeighbors                 0.787914        0.22  0.107579     7.325324  \n",
              "XGBClassifier               0.931435        0.05  0.078125     2.368155  "
            ]
          },
          "metadata": {
            "tags": []
          },
          "execution_count": 24
        }
      ]
    },
    {
      "cell_type": "markdown",
      "metadata": {
        "id": "I3-D28lKt9nt"
      },
      "source": [
        "## Modelling with XGB & Random Over Sampling"
      ]
    },
    {
      "cell_type": "code",
      "metadata": {
        "id": "8BtVCFWxt9nt"
      },
      "source": [
        "model = XGBClassifier()"
      ],
      "execution_count": null,
      "outputs": []
    },
    {
      "cell_type": "code",
      "metadata": {
        "id": "mUujdvk7t9nu"
      },
      "source": [
        "ros = RandomOverSampler(random_state=101)\n",
        "X_ros, y_ros = ros.fit_sample(X_train, y_train)"
      ],
      "execution_count": null,
      "outputs": []
    },
    {
      "cell_type": "code",
      "metadata": {
        "id": "w2Ak-uCbt9nu",
        "outputId": "5e1c5e29-efa5-4dbd-e613-25e30d21fd54"
      },
      "source": [
        "model.fit(X_ros, y_ros)"
      ],
      "execution_count": null,
      "outputs": [
        {
          "output_type": "execute_result",
          "data": {
            "text/plain": [
              "XGBClassifier(base_score=0.5, booster=None, colsample_bylevel=1,\n",
              "              colsample_bynode=1, colsample_bytree=1, gamma=0, gpu_id=-1,\n",
              "              importance_type='gain', interaction_constraints=None,\n",
              "              learning_rate=0.300000012, max_delta_step=0, max_depth=6,\n",
              "              min_child_weight=1, missing=nan, monotone_constraints=None,\n",
              "              n_estimators=100, n_jobs=0, num_parallel_tree=1,\n",
              "              objective='binary:logistic', random_state=0, reg_alpha=0,\n",
              "              reg_lambda=1, scale_pos_weight=1, subsample=1, tree_method=None,\n",
              "              validate_parameters=False, verbosity=None)"
            ]
          },
          "metadata": {
            "tags": []
          },
          "execution_count": 27
        }
      ]
    },
    {
      "cell_type": "code",
      "metadata": {
        "id": "TZUU2JQdt9nv",
        "outputId": "0ae15ae0-e975-4f06-a55e-173b28f2e465"
      },
      "source": [
        "prediction = model.predict(X_test)\n",
        "print(classification_report(y_test, prediction))"
      ],
      "execution_count": null,
      "outputs": [
        {
          "output_type": "stream",
          "text": [
            "              precision    recall  f1-score   support\n",
            "\n",
            "           0       0.94      0.99      0.96      2418\n",
            "           1       0.21      0.05      0.08       163\n",
            "\n",
            "    accuracy                           0.93      2581\n",
            "   macro avg       0.57      0.52      0.52      2581\n",
            "weighted avg       0.89      0.93      0.91      2581\n",
            "\n"
          ],
          "name": "stdout"
        }
      ]
    },
    {
      "cell_type": "code",
      "metadata": {
        "id": "ibUrPP5Lt9nv",
        "outputId": "a8aea0d7-5236-48e9-8ef0-4cc5fc48089f"
      },
      "source": [
        "print(confusion_matrix(y_test, prediction))"
      ],
      "execution_count": null,
      "outputs": [
        {
          "output_type": "stream",
          "text": [
            "[[2387   31]\n",
            " [ 155    8]]\n"
          ],
          "name": "stdout"
        }
      ]
    },
    {
      "cell_type": "markdown",
      "metadata": {
        "id": "1b7HaZ-lt9nw"
      },
      "source": [
        "## AUC ROC"
      ]
    },
    {
      "cell_type": "code",
      "metadata": {
        "id": "FVTbG_UHt9nw"
      },
      "source": [
        "from sklearn.metrics import roc_curve, auc"
      ],
      "execution_count": null,
      "outputs": []
    },
    {
      "cell_type": "code",
      "metadata": {
        "id": "0iTZO22Wt9nx",
        "outputId": "f9b9b6c1-824d-4235-f4b2-30177e6e355d"
      },
      "source": [
        "probs = model.predict_proba(X_test)\n",
        "probs"
      ],
      "execution_count": null,
      "outputs": [
        {
          "output_type": "execute_result",
          "data": {
            "text/plain": [
              "array([[3.3062422e-01, 6.6937578e-01],\n",
              "       [9.8810536e-01, 1.1894655e-02],\n",
              "       [9.6748102e-01, 3.2518983e-02],\n",
              "       ...,\n",
              "       [9.2183512e-01, 7.8164876e-02],\n",
              "       [9.9997258e-01, 2.7408052e-05],\n",
              "       [9.8638123e-01, 1.3618778e-02]], dtype=float32)"
            ]
          },
          "metadata": {
            "tags": []
          },
          "execution_count": 31
        }
      ]
    },
    {
      "cell_type": "code",
      "metadata": {
        "id": "6P0pz8kEt9nx",
        "outputId": "e13e3254-9591-46b4-8226-0827653847d8"
      },
      "source": [
        "probability = probs[:,1]\n",
        "fpr, tpr, threshold = roc_curve(y_test, probability, pos_label=1)\n",
        "roc_auc = auc(fpr, tpr)\n",
        "roc_auc"
      ],
      "execution_count": null,
      "outputs": [
        {
          "output_type": "execute_result",
          "data": {
            "text/plain": [
              "0.6211161686127054"
            ]
          },
          "metadata": {
            "tags": []
          },
          "execution_count": 32
        }
      ]
    },
    {
      "cell_type": "code",
      "metadata": {
        "id": "EsL4lZaBt9ny",
        "outputId": "4af1e597-9a28-405e-e0e7-b8c26d133ad8"
      },
      "source": [
        "plt.figure(figsize=(10,8))\n",
        "plt.title('AUROC Graph')\n",
        "plt.plot(fpr, tpr, label='AUC : {}'.format(round(roc_auc,2)))\n",
        "plt.plot([0,1])\n",
        "plt.xlabel('False Positive Rate')\n",
        "plt.ylabel('True Positive Rate')\n"
      ],
      "execution_count": null,
      "outputs": [
        {
          "output_type": "execute_result",
          "data": {
            "text/plain": [
              "Text(0, 0.5, 'True Positive Rate')"
            ]
          },
          "metadata": {
            "tags": []
          },
          "execution_count": 33
        },
        {
          "output_type": "display_data",
          "data": {
            "image/png": "[encoded data removed]",
            "text/plain": [
              "<Figure size 720x576 with 1 Axes>"
            ]
          },
          "metadata": {
            "tags": []
          }
        }
      ]
    },
    {
      "cell_type": "markdown",
      "metadata": {
        "id": "R8OQadqQt9nz"
      },
      "source": [
        "## Feature Importance"
      ]
    },
    {
      "cell_type": "code",
      "metadata": {
        "id": "pZfktbmWt9nz"
      },
      "source": [
        "df_feature = pd.DataFrame(columns=['Feature','Importance'])\n",
        "df_feature['Feature'] = feature.columns\n",
        "df_feature['Importance'] = model.feature_importances_"
      ],
      "execution_count": null,
      "outputs": []
    },
    {
      "cell_type": "code",
      "metadata": {
        "id": "9o5-w_vXt9n0",
        "outputId": "8932cbba-ca79-450b-f738-98fee24c9cea"
      },
      "source": [
        "df_feature.sort_values(by='Importance', ascending=False).head(10)"
      ],
      "execution_count": null,
      "outputs": [
        {
          "output_type": "execute_result",
          "data": {
            "text/html": [
              "<div>\n",
              "<style scoped>\n",
              "    .dataframe tbody tr th:only-of-type {\n",
              "        vertical-align: middle;\n",
              "    }\n",
              "\n",
              "    .dataframe tbody tr th {\n",
              "        vertical-align: top;\n",
              "    }\n",
              "\n",
              "    .dataframe thead th {\n",
              "        text-align: right;\n",
              "    }\n",
              "</style>\n",
              "<table border=\"1\" class=\"dataframe\">\n",
              "  <thead>\n",
              "    <tr style=\"text-align: right;\">\n",
              "      <th></th>\n",
              "      <th>Feature</th>\n",
              "      <th>Importance</th>\n",
              "    </tr>\n",
              "  </thead>\n",
              "  <tbody>\n",
              "    <tr>\n",
              "      <th>67</th>\n",
              "      <td>FLOORSMIN_MEDI</td>\n",
              "      <td>0.039260</td>\n",
              "    </tr>\n",
              "    <tr>\n",
              "      <th>142</th>\n",
              "      <td>OCCUPATION_TYPE_Sales staff</td>\n",
              "      <td>0.029514</td>\n",
              "    </tr>\n",
              "    <tr>\n",
              "      <th>136</th>\n",
              "      <td>OCCUPATION_TYPE_Laborers</td>\n",
              "      <td>0.026351</td>\n",
              "    </tr>\n",
              "    <tr>\n",
              "      <th>23</th>\n",
              "      <td>REG_REGION_NOT_WORK_REGION</td>\n",
              "      <td>0.024100</td>\n",
              "    </tr>\n",
              "    <tr>\n",
              "      <th>62</th>\n",
              "      <td>YEARS_BUILD_MEDI</td>\n",
              "      <td>0.018441</td>\n",
              "    </tr>\n",
              "    <tr>\n",
              "      <th>30</th>\n",
              "      <td>EXT_SOURCE_3</td>\n",
              "      <td>0.017412</td>\n",
              "    </tr>\n",
              "    <tr>\n",
              "      <th>184</th>\n",
              "      <td>ORGANIZATION_TYPE_Police</td>\n",
              "      <td>0.016465</td>\n",
              "    </tr>\n",
              "    <tr>\n",
              "      <th>28</th>\n",
              "      <td>EXT_SOURCE_1</td>\n",
              "      <td>0.015401</td>\n",
              "    </tr>\n",
              "    <tr>\n",
              "      <th>158</th>\n",
              "      <td>ORGANIZATION_TYPE_Construction</td>\n",
              "      <td>0.014867</td>\n",
              "    </tr>\n",
              "    <tr>\n",
              "      <th>19</th>\n",
              "      <td>REGION_RATING_CLIENT</td>\n",
              "      <td>0.014699</td>\n",
              "    </tr>\n",
              "  </tbody>\n",
              "</table>\n",
              "</div>"
            ],
            "text/plain": [
              "                            Feature  Importance\n",
              "67                   FLOORSMIN_MEDI    0.039260\n",
              "142     OCCUPATION_TYPE_Sales staff    0.029514\n",
              "136        OCCUPATION_TYPE_Laborers    0.026351\n",
              "23       REG_REGION_NOT_WORK_REGION    0.024100\n",
              "62                 YEARS_BUILD_MEDI    0.018441\n",
              "30                     EXT_SOURCE_3    0.017412\n",
              "184        ORGANIZATION_TYPE_Police    0.016465\n",
              "28                     EXT_SOURCE_1    0.015401\n",
              "158  ORGANIZATION_TYPE_Construction    0.014867\n",
              "19             REGION_RATING_CLIENT    0.014699"
            ]
          },
          "metadata": {
            "tags": []
          },
          "execution_count": 35
        }
      ]
    },
    {
      "cell_type": "markdown",
      "metadata": {
        "id": "JBjOzkdAt9n1"
      },
      "source": [
        "## Scoring with KFold"
      ]
    },
    {
      "cell_type": "code",
      "metadata": {
        "id": "7z_lfWcIt9n1",
        "outputId": "d3bbb545-6f79-4bae-8db4-7191130061ea"
      },
      "source": [
        "# fit balanced xgboost on an imbalanced classification dataset\n",
        "from numpy import mean\n",
        "from sklearn.datasets import make_classification\n",
        "from sklearn.model_selection import cross_val_score\n",
        "from sklearn.model_selection import RepeatedStratifiedKFold\n",
        "from xgboost import XGBClassifier\n",
        "\n",
        "# define model\n",
        "model = XGBClassifier(scale_pos_weight=99)\n",
        "# define evaluation procedure\n",
        "cv = RepeatedStratifiedKFold(n_splits=10, n_repeats=2, random_state=1)\n",
        "# evaluate model\n",
        "scores = cross_val_score(model, X_test, y_test, scoring='roc_auc', cv=cv, n_jobs=1)\n",
        "# summarize performance\n",
        "print('Mean ROC AUC: %.5f' % mean(scores))"
      ],
      "execution_count": null,
      "outputs": [
        {
          "output_type": "stream",
          "text": [
            "Mean ROC AUC: 0.61060\n"
          ],
          "name": "stdout"
        }
      ]
    },
    {
      "cell_type": "code",
      "metadata": {
        "id": "ZTrcRLzqt9n2",
        "outputId": "ff6822ae-8826-4932-98ea-ecee0ebc9e56"
      },
      "source": [
        "scores"
      ],
      "execution_count": null,
      "outputs": [
        {
          "output_type": "execute_result",
          "data": {
            "text/plain": [
              "array([0.69154108, 0.5668905 , 0.58626033, 0.65160124, 0.60227273,\n",
              "       0.53719008, 0.64695248, 0.68491736, 0.59751037, 0.62045399,\n",
              "       0.64244045, 0.66477273, 0.56844008, 0.57334711, 0.62913223,\n",
              "       0.5777376 , 0.59529959, 0.61002066, 0.49328777, 0.67195509])"
            ]
          },
          "metadata": {
            "tags": []
          },
          "execution_count": 37
        }
      ]
    },
    {
      "cell_type": "markdown",
      "metadata": {
        "id": "YrMHoPMyt9n2"
      },
      "source": [
        "## Best Parameter"
      ]
    },
    {
      "cell_type": "code",
      "metadata": {
        "id": "5UxE1i74t9n2",
        "outputId": "6cbad113-1a1d-4edb-fc46-0f57efffd804"
      },
      "source": [
        "from sklearn.model_selection import GridSearchCV\n",
        "from sklearn.model_selection import RepeatedStratifiedKFold\n",
        "\n",
        "# define model\n",
        "model = XGBClassifier()\n",
        "# define grid\n",
        "weights = [1, 10, 25, 50, 75, 99, 100, 1000]\n",
        "param_grid = dict(scale_pos_weight=weights)\n",
        "# define evaluation procedure\n",
        "cv = RepeatedStratifiedKFold(n_splits=10, n_repeats=3, random_state=1)\n",
        "# define grid search\n",
        "grid = GridSearchCV(estimator=model, param_grid=param_grid, n_jobs=-1, cv=cv, scoring='roc_auc')\n",
        "# execute the grid search\n",
        "grid_result = grid.fit(X_test, y_test)\n",
        "# report the best configuration\n",
        "print(\"Best: %f using %s\" % (grid_result.best_score_, grid_result.best_params_))\n",
        "# report all configurations\n",
        "means = grid_result.cv_results_['mean_test_score']\n",
        "stds = grid_result.cv_results_['std_test_score']\n",
        "params = grid_result.cv_results_['params']\n",
        "for mean, stdev, param in zip(means, stds, params):\n",
        "    print(\"%f (%f) with: %r\" % (mean, stdev, param))"
      ],
      "execution_count": null,
      "outputs": [
        {
          "output_type": "stream",
          "text": [
            "Best: 0.633633 using {'scale_pos_weight': 1}\n",
            "0.633633 (0.057418) with: {'scale_pos_weight': 1}\n",
            "0.620263 (0.065687) with: {'scale_pos_weight': 10}\n",
            "0.616811 (0.053772) with: {'scale_pos_weight': 25}\n",
            "0.623464 (0.062051) with: {'scale_pos_weight': 50}\n",
            "0.617330 (0.055778) with: {'scale_pos_weight': 75}\n",
            "0.613987 (0.054576) with: {'scale_pos_weight': 99}\n",
            "0.616019 (0.051728) with: {'scale_pos_weight': 100}\n",
            "0.614713 (0.056581) with: {'scale_pos_weight': 1000}\n"
          ],
          "name": "stdout"
        }
      ]
    },
    {
      "cell_type": "markdown",
      "metadata": {
        "id": "QGIJCWqPt9n3"
      },
      "source": [
        "## Predict Test Data"
      ]
    },
    {
      "cell_type": "code",
      "metadata": {
        "id": "kYQgxRftt9n3"
      },
      "source": [
        "test_data = pd.read_csv('application_test.csv')"
      ],
      "execution_count": null,
      "outputs": []
    },
    {
      "cell_type": "code",
      "metadata": {
        "id": "a2qQf5mkt9n3"
      },
      "source": [
        "test_feature = pd.get_dummies(test_data, drop_first=True)"
      ],
      "execution_count": null,
      "outputs": []
    },
    {
      "cell_type": "code",
      "metadata": {
        "id": "oQbpNPSwt9n4"
      },
      "source": [
        "test_feature.drop(['ORGANIZATION_TYPE_XNA', 'ORGANIZATION_TYPE_Industry: type 13', 'NAME_INCOME_TYPE_Unemployed', 'NAME_INCOME_TYPE_Student', 'ORGANIZATION_TYPE_Trade: type 5', 'NAME_INCOME_TYPE_Pensioner', 'FLAG_OWN_CAR_Y', 'NAME_INCOME_TYPE_Commercial associate'], axis=1, inplace=True)"
      ],
      "execution_count": null,
      "outputs": []
    },
    {
      "cell_type": "code",
      "metadata": {
        "id": "uztr1yV_t9n4",
        "outputId": "03dd541c-f287-4cfe-dbf4-94901ceb3084"
      },
      "source": [
        "model = XGBClassifier()\n",
        "model.fit(X_ros, y_ros)\n",
        "model.predict(test_feature)"
      ],
      "execution_count": null,
      "outputs": [
        {
          "output_type": "execute_result",
          "data": {
            "text/plain": [
              "array([0, 0, 0, ..., 0, 0, 0], dtype=int64)"
            ]
          },
          "metadata": {
            "tags": []
          },
          "execution_count": 45
        }
      ]
    },
    {
      "cell_type": "code",
      "metadata": {
        "scrolled": true,
        "id": "UPi_IUCTt9n4",
        "outputId": "173c6a13-3e51-4033-ba35-cd38c7132543"
      },
      "source": [
        "probs_test = model.predict_proba(test_feature)\n",
        "probs_test [:,1]"
      ],
      "execution_count": null,
      "outputs": [
        {
          "output_type": "execute_result",
          "data": {
            "text/plain": [
              "array([0.00042965, 0.00774097, 0.0005078 , ..., 0.00671457, 0.02329125,\n",
              "       0.0246407 ], dtype=float32)"
            ]
          },
          "metadata": {
            "tags": []
          },
          "execution_count": 47
        }
      ]
    },
    {
      "cell_type": "code",
      "metadata": {
        "id": "2gKXDOFxt9n4"
      },
      "source": [
        "test_proba = pd.DataFrame(columns=['SK_ID_CURR','TARGET'])\n",
        "test_proba['SK_ID_CURR'] = test_feature['SK_ID_CURR']\n",
        "test_proba['TARGET'] = probs_test [:,1]"
      ],
      "execution_count": null,
      "outputs": []
    },
    {
      "cell_type": "code",
      "metadata": {
        "scrolled": false,
        "id": "ySRHnkf4t9n5",
        "outputId": "fdd76edc-c83f-48f4-ca65-091b2bad8ccf"
      },
      "source": [
        "test_proba.head(20)"
      ],
      "execution_count": null,
      "outputs": [
        {
          "output_type": "execute_result",
          "data": {
            "text/html": [
              "<div>\n",
              "<style scoped>\n",
              "    .dataframe tbody tr th:only-of-type {\n",
              "        vertical-align: middle;\n",
              "    }\n",
              "\n",
              "    .dataframe tbody tr th {\n",
              "        vertical-align: top;\n",
              "    }\n",
              "\n",
              "    .dataframe thead th {\n",
              "        text-align: right;\n",
              "    }\n",
              "</style>\n",
              "<table border=\"1\" class=\"dataframe\">\n",
              "  <thead>\n",
              "    <tr style=\"text-align: right;\">\n",
              "      <th></th>\n",
              "      <th>SK_ID_CURR</th>\n",
              "      <th>TARGET</th>\n",
              "    </tr>\n",
              "  </thead>\n",
              "  <tbody>\n",
              "    <tr>\n",
              "      <th>0</th>\n",
              "      <td>100001</td>\n",
              "      <td>0.000430</td>\n",
              "    </tr>\n",
              "    <tr>\n",
              "      <th>1</th>\n",
              "      <td>100005</td>\n",
              "      <td>0.007741</td>\n",
              "    </tr>\n",
              "    <tr>\n",
              "      <th>2</th>\n",
              "      <td>100013</td>\n",
              "      <td>0.000508</td>\n",
              "    </tr>\n",
              "    <tr>\n",
              "      <th>3</th>\n",
              "      <td>100028</td>\n",
              "      <td>0.000094</td>\n",
              "    </tr>\n",
              "    <tr>\n",
              "      <th>4</th>\n",
              "      <td>100038</td>\n",
              "      <td>0.230406</td>\n",
              "    </tr>\n",
              "    <tr>\n",
              "      <th>5</th>\n",
              "      <td>100042</td>\n",
              "      <td>0.002728</td>\n",
              "    </tr>\n",
              "    <tr>\n",
              "      <th>6</th>\n",
              "      <td>100057</td>\n",
              "      <td>0.000182</td>\n",
              "    </tr>\n",
              "    <tr>\n",
              "      <th>7</th>\n",
              "      <td>100065</td>\n",
              "      <td>0.001835</td>\n",
              "    </tr>\n",
              "    <tr>\n",
              "      <th>8</th>\n",
              "      <td>100066</td>\n",
              "      <td>0.000007</td>\n",
              "    </tr>\n",
              "    <tr>\n",
              "      <th>9</th>\n",
              "      <td>100067</td>\n",
              "      <td>0.213522</td>\n",
              "    </tr>\n",
              "    <tr>\n",
              "      <th>10</th>\n",
              "      <td>100074</td>\n",
              "      <td>0.110135</td>\n",
              "    </tr>\n",
              "    <tr>\n",
              "      <th>11</th>\n",
              "      <td>100090</td>\n",
              "      <td>0.004048</td>\n",
              "    </tr>\n",
              "    <tr>\n",
              "      <th>12</th>\n",
              "      <td>100091</td>\n",
              "      <td>0.126640</td>\n",
              "    </tr>\n",
              "    <tr>\n",
              "      <th>13</th>\n",
              "      <td>100092</td>\n",
              "      <td>0.118076</td>\n",
              "    </tr>\n",
              "    <tr>\n",
              "      <th>14</th>\n",
              "      <td>100106</td>\n",
              "      <td>0.005236</td>\n",
              "    </tr>\n",
              "    <tr>\n",
              "      <th>15</th>\n",
              "      <td>100107</td>\n",
              "      <td>0.010636</td>\n",
              "    </tr>\n",
              "    <tr>\n",
              "      <th>16</th>\n",
              "      <td>100109</td>\n",
              "      <td>0.010326</td>\n",
              "    </tr>\n",
              "    <tr>\n",
              "      <th>17</th>\n",
              "      <td>100117</td>\n",
              "      <td>0.003190</td>\n",
              "    </tr>\n",
              "    <tr>\n",
              "      <th>18</th>\n",
              "      <td>100128</td>\n",
              "      <td>0.009359</td>\n",
              "    </tr>\n",
              "    <tr>\n",
              "      <th>19</th>\n",
              "      <td>100141</td>\n",
              "      <td>0.016664</td>\n",
              "    </tr>\n",
              "  </tbody>\n",
              "</table>\n",
              "</div>"
            ],
            "text/plain": [
              "    SK_ID_CURR    TARGET\n",
              "0       100001  0.000430\n",
              "1       100005  0.007741\n",
              "2       100013  0.000508\n",
              "3       100028  0.000094\n",
              "4       100038  0.230406\n",
              "5       100042  0.002728\n",
              "6       100057  0.000182\n",
              "7       100065  0.001835\n",
              "8       100066  0.000007\n",
              "9       100067  0.213522\n",
              "10      100074  0.110135\n",
              "11      100090  0.004048\n",
              "12      100091  0.126640\n",
              "13      100092  0.118076\n",
              "14      100106  0.005236\n",
              "15      100107  0.010636\n",
              "16      100109  0.010326\n",
              "17      100117  0.003190\n",
              "18      100128  0.009359\n",
              "19      100141  0.016664"
            ]
          },
          "metadata": {
            "tags": []
          },
          "execution_count": 49
        }
      ]
    },
    {
      "cell_type": "code",
      "metadata": {
        "id": "ZJjdBgZEt9n5",
        "outputId": "6d0a4cf1-edb3-4b8f-ecc4-db116df18ec2"
      },
      "source": [
        "df.corr().sort_values(by='TARGET').head(10)"
      ],
      "execution_count": null,
      "outputs": [
        {
          "output_type": "execute_result",
          "data": {
            "text/html": [
              "<div>\n",
              "<style scoped>\n",
              "    .dataframe tbody tr th:only-of-type {\n",
              "        vertical-align: middle;\n",
              "    }\n",
              "\n",
              "    .dataframe tbody tr th {\n",
              "        vertical-align: top;\n",
              "    }\n",
              "\n",
              "    .dataframe thead th {\n",
              "        text-align: right;\n",
              "    }\n",
              "</style>\n",
              "<table border=\"1\" class=\"dataframe\">\n",
              "  <thead>\n",
              "    <tr style=\"text-align: right;\">\n",
              "      <th></th>\n",
              "      <th>SK_ID_CURR</th>\n",
              "      <th>TARGET</th>\n",
              "      <th>CNT_CHILDREN</th>\n",
              "      <th>AMT_INCOME_TOTAL</th>\n",
              "      <th>AMT_CREDIT</th>\n",
              "      <th>AMT_ANNUITY</th>\n",
              "      <th>AMT_GOODS_PRICE</th>\n",
              "      <th>REGION_POPULATION_RELATIVE</th>\n",
              "      <th>DAYS_BIRTH</th>\n",
              "      <th>DAYS_EMPLOYED</th>\n",
              "      <th>...</th>\n",
              "      <th>FLAG_DOCUMENT_18</th>\n",
              "      <th>FLAG_DOCUMENT_19</th>\n",
              "      <th>FLAG_DOCUMENT_20</th>\n",
              "      <th>FLAG_DOCUMENT_21</th>\n",
              "      <th>AMT_REQ_CREDIT_BUREAU_HOUR</th>\n",
              "      <th>AMT_REQ_CREDIT_BUREAU_DAY</th>\n",
              "      <th>AMT_REQ_CREDIT_BUREAU_WEEK</th>\n",
              "      <th>AMT_REQ_CREDIT_BUREAU_MON</th>\n",
              "      <th>AMT_REQ_CREDIT_BUREAU_QRT</th>\n",
              "      <th>AMT_REQ_CREDIT_BUREAU_YEAR</th>\n",
              "    </tr>\n",
              "  </thead>\n",
              "  <tbody>\n",
              "    <tr>\n",
              "      <th>EXT_SOURCE_3</th>\n",
              "      <td>-0.021735</td>\n",
              "      <td>-0.150720</td>\n",
              "      <td>0.007518</td>\n",
              "      <td>-0.055892</td>\n",
              "      <td>0.043173</td>\n",
              "      <td>0.026225</td>\n",
              "      <td>0.047933</td>\n",
              "      <td>-0.043639</td>\n",
              "      <td>-0.141725</td>\n",
              "      <td>-0.146613</td>\n",
              "      <td>...</td>\n",
              "      <td>-0.010891</td>\n",
              "      <td>0.012193</td>\n",
              "      <td>-0.017747</td>\n",
              "      <td>0.012004</td>\n",
              "      <td>-0.008458</td>\n",
              "      <td>-0.013873</td>\n",
              "      <td>-0.048512</td>\n",
              "      <td>-0.019912</td>\n",
              "      <td>-0.005306</td>\n",
              "      <td>-0.083842</td>\n",
              "    </tr>\n",
              "    <tr>\n",
              "      <th>EXT_SOURCE_2</th>\n",
              "      <td>0.005443</td>\n",
              "      <td>-0.130969</td>\n",
              "      <td>0.006046</td>\n",
              "      <td>0.132702</td>\n",
              "      <td>0.116727</td>\n",
              "      <td>0.102212</td>\n",
              "      <td>0.121168</td>\n",
              "      <td>0.229401</td>\n",
              "      <td>-0.157443</td>\n",
              "      <td>-0.095232</td>\n",
              "      <td>...</td>\n",
              "      <td>0.006978</td>\n",
              "      <td>0.004169</td>\n",
              "      <td>0.012367</td>\n",
              "      <td>0.011411</td>\n",
              "      <td>-0.012738</td>\n",
              "      <td>-0.007720</td>\n",
              "      <td>-0.004214</td>\n",
              "      <td>0.046123</td>\n",
              "      <td>-0.001055</td>\n",
              "      <td>-0.046502</td>\n",
              "    </tr>\n",
              "    <tr>\n",
              "      <th>EXT_SOURCE_1</th>\n",
              "      <td>-0.006206</td>\n",
              "      <td>-0.129548</td>\n",
              "      <td>-0.068846</td>\n",
              "      <td>0.128865</td>\n",
              "      <td>0.187568</td>\n",
              "      <td>0.164067</td>\n",
              "      <td>0.197046</td>\n",
              "      <td>0.141609</td>\n",
              "      <td>-0.516537</td>\n",
              "      <td>-0.213427</td>\n",
              "      <td>...</td>\n",
              "      <td>0.006547</td>\n",
              "      <td>0.015367</td>\n",
              "      <td>0.000952</td>\n",
              "      <td>-0.021865</td>\n",
              "      <td>0.003063</td>\n",
              "      <td>-0.015408</td>\n",
              "      <td>0.024279</td>\n",
              "      <td>0.035694</td>\n",
              "      <td>0.005071</td>\n",
              "      <td>-0.011890</td>\n",
              "    </tr>\n",
              "    <tr>\n",
              "      <th>FLOORSMAX_AVG</th>\n",
              "      <td>-0.015395</td>\n",
              "      <td>-0.046110</td>\n",
              "      <td>-0.007317</td>\n",
              "      <td>0.197994</td>\n",
              "      <td>0.095920</td>\n",
              "      <td>0.130151</td>\n",
              "      <td>0.103576</td>\n",
              "      <td>0.319260</td>\n",
              "      <td>-0.046301</td>\n",
              "      <td>0.010997</td>\n",
              "      <td>...</td>\n",
              "      <td>0.025249</td>\n",
              "      <td>0.013751</td>\n",
              "      <td>0.007291</td>\n",
              "      <td>0.006544</td>\n",
              "      <td>0.034566</td>\n",
              "      <td>-0.003370</td>\n",
              "      <td>0.009122</td>\n",
              "      <td>0.064852</td>\n",
              "      <td>0.000644</td>\n",
              "      <td>-0.043777</td>\n",
              "    </tr>\n",
              "    <tr>\n",
              "      <th>FLOORSMAX_MODE</th>\n",
              "      <td>-0.015842</td>\n",
              "      <td>-0.045990</td>\n",
              "      <td>-0.006046</td>\n",
              "      <td>0.191779</td>\n",
              "      <td>0.095460</td>\n",
              "      <td>0.128004</td>\n",
              "      <td>0.102786</td>\n",
              "      <td>0.302405</td>\n",
              "      <td>-0.041554</td>\n",
              "      <td>0.008961</td>\n",
              "      <td>...</td>\n",
              "      <td>0.025290</td>\n",
              "      <td>0.014651</td>\n",
              "      <td>0.008455</td>\n",
              "      <td>0.007104</td>\n",
              "      <td>0.035775</td>\n",
              "      <td>-0.004019</td>\n",
              "      <td>0.011251</td>\n",
              "      <td>0.061879</td>\n",
              "      <td>0.001600</td>\n",
              "      <td>-0.042853</td>\n",
              "    </tr>\n",
              "    <tr>\n",
              "      <th>FLOORSMAX_MEDI</th>\n",
              "      <td>-0.014036</td>\n",
              "      <td>-0.045206</td>\n",
              "      <td>-0.006788</td>\n",
              "      <td>0.196860</td>\n",
              "      <td>0.095669</td>\n",
              "      <td>0.129675</td>\n",
              "      <td>0.103552</td>\n",
              "      <td>0.315434</td>\n",
              "      <td>-0.045896</td>\n",
              "      <td>0.010550</td>\n",
              "      <td>...</td>\n",
              "      <td>0.025874</td>\n",
              "      <td>0.013725</td>\n",
              "      <td>0.007320</td>\n",
              "      <td>0.006540</td>\n",
              "      <td>0.035094</td>\n",
              "      <td>-0.003440</td>\n",
              "      <td>0.010601</td>\n",
              "      <td>0.064719</td>\n",
              "      <td>0.001889</td>\n",
              "      <td>-0.044619</td>\n",
              "    </tr>\n",
              "    <tr>\n",
              "      <th>AMT_INCOME_TOTAL</th>\n",
              "      <td>-0.011396</td>\n",
              "      <td>-0.039762</td>\n",
              "      <td>-0.023069</td>\n",
              "      <td>1.000000</td>\n",
              "      <td>0.348575</td>\n",
              "      <td>0.415807</td>\n",
              "      <td>0.354556</td>\n",
              "      <td>0.211133</td>\n",
              "      <td>-0.119206</td>\n",
              "      <td>-0.028260</td>\n",
              "      <td>...</td>\n",
              "      <td>0.041473</td>\n",
              "      <td>0.010493</td>\n",
              "      <td>0.003233</td>\n",
              "      <td>0.031045</td>\n",
              "      <td>0.026559</td>\n",
              "      <td>-0.001641</td>\n",
              "      <td>0.024093</td>\n",
              "      <td>0.024042</td>\n",
              "      <td>0.006707</td>\n",
              "      <td>-0.007158</td>\n",
              "    </tr>\n",
              "    <tr>\n",
              "      <th>FLOORSMIN_MEDI</th>\n",
              "      <td>-0.005140</td>\n",
              "      <td>-0.033313</td>\n",
              "      <td>-0.010298</td>\n",
              "      <td>0.125193</td>\n",
              "      <td>0.071373</td>\n",
              "      <td>0.096311</td>\n",
              "      <td>0.075660</td>\n",
              "      <td>0.268459</td>\n",
              "      <td>-0.034827</td>\n",
              "      <td>0.010019</td>\n",
              "      <td>...</td>\n",
              "      <td>0.019780</td>\n",
              "      <td>0.019625</td>\n",
              "      <td>0.010704</td>\n",
              "      <td>0.010459</td>\n",
              "      <td>0.033596</td>\n",
              "      <td>-0.003944</td>\n",
              "      <td>0.010155</td>\n",
              "      <td>0.054801</td>\n",
              "      <td>0.002450</td>\n",
              "      <td>-0.036930</td>\n",
              "    </tr>\n",
              "    <tr>\n",
              "      <th>FLOORSMIN_AVG</th>\n",
              "      <td>-0.006386</td>\n",
              "      <td>-0.032904</td>\n",
              "      <td>-0.011956</td>\n",
              "      <td>0.126338</td>\n",
              "      <td>0.071738</td>\n",
              "      <td>0.097323</td>\n",
              "      <td>0.076024</td>\n",
              "      <td>0.272141</td>\n",
              "      <td>-0.035261</td>\n",
              "      <td>0.010425</td>\n",
              "      <td>...</td>\n",
              "      <td>0.019955</td>\n",
              "      <td>0.019663</td>\n",
              "      <td>0.010684</td>\n",
              "      <td>0.010474</td>\n",
              "      <td>0.035143</td>\n",
              "      <td>-0.003989</td>\n",
              "      <td>0.008318</td>\n",
              "      <td>0.054496</td>\n",
              "      <td>0.001071</td>\n",
              "      <td>-0.037225</td>\n",
              "    </tr>\n",
              "    <tr>\n",
              "      <th>FLOORSMIN_MODE</th>\n",
              "      <td>-0.006742</td>\n",
              "      <td>-0.031688</td>\n",
              "      <td>-0.008815</td>\n",
              "      <td>0.118840</td>\n",
              "      <td>0.068033</td>\n",
              "      <td>0.092985</td>\n",
              "      <td>0.071870</td>\n",
              "      <td>0.252610</td>\n",
              "      <td>-0.031858</td>\n",
              "      <td>0.009889</td>\n",
              "      <td>...</td>\n",
              "      <td>0.018073</td>\n",
              "      <td>0.020310</td>\n",
              "      <td>0.011569</td>\n",
              "      <td>0.010885</td>\n",
              "      <td>0.029281</td>\n",
              "      <td>-0.006427</td>\n",
              "      <td>0.009405</td>\n",
              "      <td>0.047685</td>\n",
              "      <td>0.004380</td>\n",
              "      <td>-0.034951</td>\n",
              "    </tr>\n",
              "  </tbody>\n",
              "</table>\n",
              "<p>10 rows × 106 columns</p>\n",
              "</div>"
            ],
            "text/plain": [
              "                  SK_ID_CURR    TARGET  CNT_CHILDREN  AMT_INCOME_TOTAL  \\\n",
              "EXT_SOURCE_3       -0.021735 -0.150720      0.007518         -0.055892   \n",
              "EXT_SOURCE_2        0.005443 -0.130969      0.006046          0.132702   \n",
              "EXT_SOURCE_1       -0.006206 -0.129548     -0.068846          0.128865   \n",
              "FLOORSMAX_AVG      -0.015395 -0.046110     -0.007317          0.197994   \n",
              "FLOORSMAX_MODE     -0.015842 -0.045990     -0.006046          0.191779   \n",
              "FLOORSMAX_MEDI     -0.014036 -0.045206     -0.006788          0.196860   \n",
              "AMT_INCOME_TOTAL   -0.011396 -0.039762     -0.023069          1.000000   \n",
              "FLOORSMIN_MEDI     -0.005140 -0.033313     -0.010298          0.125193   \n",
              "FLOORSMIN_AVG      -0.006386 -0.032904     -0.011956          0.126338   \n",
              "FLOORSMIN_MODE     -0.006742 -0.031688     -0.008815          0.118840   \n",
              "\n",
              "                  AMT_CREDIT  AMT_ANNUITY  AMT_GOODS_PRICE  \\\n",
              "EXT_SOURCE_3        0.043173     0.026225         0.047933   \n",
              "EXT_SOURCE_2        0.116727     0.102212         0.121168   \n",
              "EXT_SOURCE_1        0.187568     0.164067         0.197046   \n",
              "FLOORSMAX_AVG       0.095920     0.130151         0.103576   \n",
              "FLOORSMAX_MODE      0.095460     0.128004         0.102786   \n",
              "FLOORSMAX_MEDI      0.095669     0.129675         0.103552   \n",
              "AMT_INCOME_TOTAL    0.348575     0.415807         0.354556   \n",
              "FLOORSMIN_MEDI      0.071373     0.096311         0.075660   \n",
              "FLOORSMIN_AVG       0.071738     0.097323         0.076024   \n",
              "FLOORSMIN_MODE      0.068033     0.092985         0.071870   \n",
              "\n",
              "                  REGION_POPULATION_RELATIVE  DAYS_BIRTH  DAYS_EMPLOYED  ...  \\\n",
              "EXT_SOURCE_3                       -0.043639   -0.141725      -0.146613  ...   \n",
              "EXT_SOURCE_2                        0.229401   -0.157443      -0.095232  ...   \n",
              "EXT_SOURCE_1                        0.141609   -0.516537      -0.213427  ...   \n",
              "FLOORSMAX_AVG                       0.319260   -0.046301       0.010997  ...   \n",
              "FLOORSMAX_MODE                      0.302405   -0.041554       0.008961  ...   \n",
              "FLOORSMAX_MEDI                      0.315434   -0.045896       0.010550  ...   \n",
              "AMT_INCOME_TOTAL                    0.211133   -0.119206      -0.028260  ...   \n",
              "FLOORSMIN_MEDI                      0.268459   -0.034827       0.010019  ...   \n",
              "FLOORSMIN_AVG                       0.272141   -0.035261       0.010425  ...   \n",
              "FLOORSMIN_MODE                      0.252610   -0.031858       0.009889  ...   \n",
              "\n",
              "                  FLAG_DOCUMENT_18  FLAG_DOCUMENT_19  FLAG_DOCUMENT_20  \\\n",
              "EXT_SOURCE_3             -0.010891          0.012193         -0.017747   \n",
              "EXT_SOURCE_2              0.006978          0.004169          0.012367   \n",
              "EXT_SOURCE_1              0.006547          0.015367          0.000952   \n",
              "FLOORSMAX_AVG             0.025249          0.013751          0.007291   \n",
              "FLOORSMAX_MODE            0.025290          0.014651          0.008455   \n",
              "FLOORSMAX_MEDI            0.025874          0.013725          0.007320   \n",
              "AMT_INCOME_TOTAL          0.041473          0.010493          0.003233   \n",
              "FLOORSMIN_MEDI            0.019780          0.019625          0.010704   \n",
              "FLOORSMIN_AVG             0.019955          0.019663          0.010684   \n",
              "FLOORSMIN_MODE            0.018073          0.020310          0.011569   \n",
              "\n",
              "                  FLAG_DOCUMENT_21  AMT_REQ_CREDIT_BUREAU_HOUR  \\\n",
              "EXT_SOURCE_3              0.012004                   -0.008458   \n",
              "EXT_SOURCE_2              0.011411                   -0.012738   \n",
              "EXT_SOURCE_1             -0.021865                    0.003063   \n",
              "FLOORSMAX_AVG             0.006544                    0.034566   \n",
              "FLOORSMAX_MODE            0.007104                    0.035775   \n",
              "FLOORSMAX_MEDI            0.006540                    0.035094   \n",
              "AMT_INCOME_TOTAL          0.031045                    0.026559   \n",
              "FLOORSMIN_MEDI            0.010459                    0.033596   \n",
              "FLOORSMIN_AVG             0.010474                    0.035143   \n",
              "FLOORSMIN_MODE            0.010885                    0.029281   \n",
              "\n",
              "                  AMT_REQ_CREDIT_BUREAU_DAY  AMT_REQ_CREDIT_BUREAU_WEEK  \\\n",
              "EXT_SOURCE_3                      -0.013873                   -0.048512   \n",
              "EXT_SOURCE_2                      -0.007720                   -0.004214   \n",
              "EXT_SOURCE_1                      -0.015408                    0.024279   \n",
              "FLOORSMAX_AVG                     -0.003370                    0.009122   \n",
              "FLOORSMAX_MODE                    -0.004019                    0.011251   \n",
              "FLOORSMAX_MEDI                    -0.003440                    0.010601   \n",
              "AMT_INCOME_TOTAL                  -0.001641                    0.024093   \n",
              "FLOORSMIN_MEDI                    -0.003944                    0.010155   \n",
              "FLOORSMIN_AVG                     -0.003989                    0.008318   \n",
              "FLOORSMIN_MODE                    -0.006427                    0.009405   \n",
              "\n",
              "                  AMT_REQ_CREDIT_BUREAU_MON  AMT_REQ_CREDIT_BUREAU_QRT  \\\n",
              "EXT_SOURCE_3                      -0.019912                  -0.005306   \n",
              "EXT_SOURCE_2                       0.046123                  -0.001055   \n",
              "EXT_SOURCE_1                       0.035694                   0.005071   \n",
              "FLOORSMAX_AVG                      0.064852                   0.000644   \n",
              "FLOORSMAX_MODE                     0.061879                   0.001600   \n",
              "FLOORSMAX_MEDI                     0.064719                   0.001889   \n",
              "AMT_INCOME_TOTAL                   0.024042                   0.006707   \n",
              "FLOORSMIN_MEDI                     0.054801                   0.002450   \n",
              "FLOORSMIN_AVG                      0.054496                   0.001071   \n",
              "FLOORSMIN_MODE                     0.047685                   0.004380   \n",
              "\n",
              "                  AMT_REQ_CREDIT_BUREAU_YEAR  \n",
              "EXT_SOURCE_3                       -0.083842  \n",
              "EXT_SOURCE_2                       -0.046502  \n",
              "EXT_SOURCE_1                       -0.011890  \n",
              "FLOORSMAX_AVG                      -0.043777  \n",
              "FLOORSMAX_MODE                     -0.042853  \n",
              "FLOORSMAX_MEDI                     -0.044619  \n",
              "AMT_INCOME_TOTAL                   -0.007158  \n",
              "FLOORSMIN_MEDI                     -0.036930  \n",
              "FLOORSMIN_AVG                      -0.037225  \n",
              "FLOORSMIN_MODE                     -0.034951  \n",
              "\n",
              "[10 rows x 106 columns]"
            ]
          },
          "metadata": {
            "tags": []
          },
          "execution_count": 53
        }
      ]
    },
    {
      "cell_type": "code",
      "metadata": {
        "id": "lS2H9XrZt9n5",
        "outputId": "d3d18779-aab6-4a2f-d7b5-5256cf909bbd"
      },
      "source": [
        "df.corr().sort_values(by='TARGET', ascending=False).head(10)"
      ],
      "execution_count": null,
      "outputs": [
        {
          "output_type": "execute_result",
          "data": {
            "text/html": [
              "<div>\n",
              "<style scoped>\n",
              "    .dataframe tbody tr th:only-of-type {\n",
              "        vertical-align: middle;\n",
              "    }\n",
              "\n",
              "    .dataframe tbody tr th {\n",
              "        vertical-align: top;\n",
              "    }\n",
              "\n",
              "    .dataframe thead th {\n",
              "        text-align: right;\n",
              "    }\n",
              "</style>\n",
              "<table border=\"1\" class=\"dataframe\">\n",
              "  <thead>\n",
              "    <tr style=\"text-align: right;\">\n",
              "      <th></th>\n",
              "      <th>SK_ID_CURR</th>\n",
              "      <th>TARGET</th>\n",
              "      <th>CNT_CHILDREN</th>\n",
              "      <th>AMT_INCOME_TOTAL</th>\n",
              "      <th>AMT_CREDIT</th>\n",
              "      <th>AMT_ANNUITY</th>\n",
              "      <th>AMT_GOODS_PRICE</th>\n",
              "      <th>REGION_POPULATION_RELATIVE</th>\n",
              "      <th>DAYS_BIRTH</th>\n",
              "      <th>DAYS_EMPLOYED</th>\n",
              "      <th>...</th>\n",
              "      <th>FLAG_DOCUMENT_18</th>\n",
              "      <th>FLAG_DOCUMENT_19</th>\n",
              "      <th>FLAG_DOCUMENT_20</th>\n",
              "      <th>FLAG_DOCUMENT_21</th>\n",
              "      <th>AMT_REQ_CREDIT_BUREAU_HOUR</th>\n",
              "      <th>AMT_REQ_CREDIT_BUREAU_DAY</th>\n",
              "      <th>AMT_REQ_CREDIT_BUREAU_WEEK</th>\n",
              "      <th>AMT_REQ_CREDIT_BUREAU_MON</th>\n",
              "      <th>AMT_REQ_CREDIT_BUREAU_QRT</th>\n",
              "      <th>AMT_REQ_CREDIT_BUREAU_YEAR</th>\n",
              "    </tr>\n",
              "  </thead>\n",
              "  <tbody>\n",
              "    <tr>\n",
              "      <th>TARGET</th>\n",
              "      <td>0.015474</td>\n",
              "      <td>1.000000</td>\n",
              "      <td>-0.019993</td>\n",
              "      <td>-0.039762</td>\n",
              "      <td>-0.014634</td>\n",
              "      <td>-0.000765</td>\n",
              "      <td>-0.021950</td>\n",
              "      <td>-0.021225</td>\n",
              "      <td>0.041108</td>\n",
              "      <td>0.062950</td>\n",
              "      <td>...</td>\n",
              "      <td>-0.006139</td>\n",
              "      <td>0.013976</td>\n",
              "      <td>-0.008259</td>\n",
              "      <td>-0.003892</td>\n",
              "      <td>0.012156</td>\n",
              "      <td>0.014616</td>\n",
              "      <td>0.015000</td>\n",
              "      <td>-0.004202</td>\n",
              "      <td>0.016465</td>\n",
              "      <td>0.033832</td>\n",
              "    </tr>\n",
              "    <tr>\n",
              "      <th>DAYS_EMPLOYED</th>\n",
              "      <td>-0.011304</td>\n",
              "      <td>0.062950</td>\n",
              "      <td>0.014600</td>\n",
              "      <td>-0.028260</td>\n",
              "      <td>-0.068760</td>\n",
              "      <td>-0.058623</td>\n",
              "      <td>-0.071172</td>\n",
              "      <td>0.004597</td>\n",
              "      <td>0.325117</td>\n",
              "      <td>1.000000</td>\n",
              "      <td>...</td>\n",
              "      <td>0.014636</td>\n",
              "      <td>0.014895</td>\n",
              "      <td>0.018351</td>\n",
              "      <td>0.001814</td>\n",
              "      <td>-0.001194</td>\n",
              "      <td>0.025302</td>\n",
              "      <td>0.004644</td>\n",
              "      <td>-0.014233</td>\n",
              "      <td>0.025230</td>\n",
              "      <td>-0.007192</td>\n",
              "    </tr>\n",
              "    <tr>\n",
              "      <th>REGION_RATING_CLIENT_W_CITY</th>\n",
              "      <td>-0.003637</td>\n",
              "      <td>0.061214</td>\n",
              "      <td>0.018380</td>\n",
              "      <td>-0.220782</td>\n",
              "      <td>-0.112522</td>\n",
              "      <td>-0.142749</td>\n",
              "      <td>-0.112101</td>\n",
              "      <td>-0.569545</td>\n",
              "      <td>0.044376</td>\n",
              "      <td>-0.013937</td>\n",
              "      <td>...</td>\n",
              "      <td>-0.011761</td>\n",
              "      <td>-0.006496</td>\n",
              "      <td>0.009604</td>\n",
              "      <td>-0.012433</td>\n",
              "      <td>-0.012010</td>\n",
              "      <td>-0.011832</td>\n",
              "      <td>-0.008654</td>\n",
              "      <td>-0.060312</td>\n",
              "      <td>0.035933</td>\n",
              "      <td>0.047404</td>\n",
              "    </tr>\n",
              "    <tr>\n",
              "      <th>FLAG_DOCUMENT_3</th>\n",
              "      <td>-0.017875</td>\n",
              "      <td>0.054269</td>\n",
              "      <td>0.009947</td>\n",
              "      <td>-0.098321</td>\n",
              "      <td>0.076155</td>\n",
              "      <td>0.056177</td>\n",
              "      <td>0.054159</td>\n",
              "      <td>-0.153716</td>\n",
              "      <td>-0.013433</td>\n",
              "      <td>-0.028240</td>\n",
              "      <td>...</td>\n",
              "      <td>-0.012787</td>\n",
              "      <td>0.007421</td>\n",
              "      <td>0.008448</td>\n",
              "      <td>-0.020946</td>\n",
              "      <td>0.013618</td>\n",
              "      <td>0.011923</td>\n",
              "      <td>0.029727</td>\n",
              "      <td>0.000599</td>\n",
              "      <td>0.028691</td>\n",
              "      <td>0.043488</td>\n",
              "    </tr>\n",
              "    <tr>\n",
              "      <th>REGION_RATING_CLIENT</th>\n",
              "      <td>-0.003452</td>\n",
              "      <td>0.053614</td>\n",
              "      <td>0.015053</td>\n",
              "      <td>-0.207276</td>\n",
              "      <td>-0.108125</td>\n",
              "      <td>-0.131777</td>\n",
              "      <td>-0.108693</td>\n",
              "      <td>-0.595022</td>\n",
              "      <td>0.042951</td>\n",
              "      <td>-0.029713</td>\n",
              "      <td>...</td>\n",
              "      <td>-0.007073</td>\n",
              "      <td>-0.008745</td>\n",
              "      <td>0.006085</td>\n",
              "      <td>-0.013628</td>\n",
              "      <td>-0.011263</td>\n",
              "      <td>-0.011292</td>\n",
              "      <td>-0.013445</td>\n",
              "      <td>-0.064634</td>\n",
              "      <td>0.027296</td>\n",
              "      <td>0.048630</td>\n",
              "    </tr>\n",
              "    <tr>\n",
              "      <th>DAYS_BIRTH</th>\n",
              "      <td>0.006310</td>\n",
              "      <td>0.041108</td>\n",
              "      <td>0.175747</td>\n",
              "      <td>-0.119206</td>\n",
              "      <td>-0.198152</td>\n",
              "      <td>-0.151530</td>\n",
              "      <td>-0.198316</td>\n",
              "      <td>-0.060821</td>\n",
              "      <td>1.000000</td>\n",
              "      <td>0.325117</td>\n",
              "      <td>...</td>\n",
              "      <td>0.011746</td>\n",
              "      <td>0.002631</td>\n",
              "      <td>-0.002663</td>\n",
              "      <td>0.019658</td>\n",
              "      <td>0.009544</td>\n",
              "      <td>0.018687</td>\n",
              "      <td>0.003329</td>\n",
              "      <td>-0.036862</td>\n",
              "      <td>-0.014376</td>\n",
              "      <td>-0.047330</td>\n",
              "    </tr>\n",
              "    <tr>\n",
              "      <th>AMT_REQ_CREDIT_BUREAU_YEAR</th>\n",
              "      <td>-0.017236</td>\n",
              "      <td>0.033832</td>\n",
              "      <td>-0.035499</td>\n",
              "      <td>-0.007158</td>\n",
              "      <td>-0.057768</td>\n",
              "      <td>-0.004702</td>\n",
              "      <td>-0.061785</td>\n",
              "      <td>-0.035349</td>\n",
              "      <td>-0.047330</td>\n",
              "      <td>-0.007192</td>\n",
              "      <td>...</td>\n",
              "      <td>-0.051322</td>\n",
              "      <td>-0.004909</td>\n",
              "      <td>-0.007816</td>\n",
              "      <td>-0.002236</td>\n",
              "      <td>-0.008433</td>\n",
              "      <td>0.003018</td>\n",
              "      <td>0.024866</td>\n",
              "      <td>-0.010767</td>\n",
              "      <td>0.088951</td>\n",
              "      <td>1.000000</td>\n",
              "    </tr>\n",
              "    <tr>\n",
              "      <th>OBS_30_CNT_SOCIAL_CIRCLE</th>\n",
              "      <td>0.005568</td>\n",
              "      <td>0.031041</td>\n",
              "      <td>0.008031</td>\n",
              "      <td>-0.063613</td>\n",
              "      <td>-0.026006</td>\n",
              "      <td>-0.040282</td>\n",
              "      <td>-0.027548</td>\n",
              "      <td>-0.050619</td>\n",
              "      <td>0.050040</td>\n",
              "      <td>0.007849</td>\n",
              "      <td>...</td>\n",
              "      <td>0.000688</td>\n",
              "      <td>-0.008341</td>\n",
              "      <td>0.007579</td>\n",
              "      <td>-0.009392</td>\n",
              "      <td>-0.000287</td>\n",
              "      <td>-0.016297</td>\n",
              "      <td>0.017086</td>\n",
              "      <td>-0.002827</td>\n",
              "      <td>0.001656</td>\n",
              "      <td>0.045845</td>\n",
              "    </tr>\n",
              "    <tr>\n",
              "      <th>OBS_60_CNT_SOCIAL_CIRCLE</th>\n",
              "      <td>0.005495</td>\n",
              "      <td>0.030730</td>\n",
              "      <td>0.007668</td>\n",
              "      <td>-0.063459</td>\n",
              "      <td>-0.025458</td>\n",
              "      <td>-0.039380</td>\n",
              "      <td>-0.027053</td>\n",
              "      <td>-0.050523</td>\n",
              "      <td>0.049631</td>\n",
              "      <td>0.007630</td>\n",
              "      <td>...</td>\n",
              "      <td>0.000899</td>\n",
              "      <td>-0.008228</td>\n",
              "      <td>0.007875</td>\n",
              "      <td>-0.009353</td>\n",
              "      <td>0.000260</td>\n",
              "      <td>-0.017071</td>\n",
              "      <td>0.017579</td>\n",
              "      <td>-0.002784</td>\n",
              "      <td>0.000244</td>\n",
              "      <td>0.046538</td>\n",
              "    </tr>\n",
              "    <tr>\n",
              "      <th>OWN_CAR_AGE</th>\n",
              "      <td>0.000611</td>\n",
              "      <td>0.028052</td>\n",
              "      <td>0.008337</td>\n",
              "      <td>-0.120090</td>\n",
              "      <td>-0.078948</td>\n",
              "      <td>-0.090073</td>\n",
              "      <td>-0.086201</td>\n",
              "      <td>-0.083134</td>\n",
              "      <td>0.030548</td>\n",
              "      <td>0.020314</td>\n",
              "      <td>...</td>\n",
              "      <td>-0.003889</td>\n",
              "      <td>-0.010158</td>\n",
              "      <td>-0.016241</td>\n",
              "      <td>-0.002735</td>\n",
              "      <td>0.003118</td>\n",
              "      <td>-0.001610</td>\n",
              "      <td>-0.008410</td>\n",
              "      <td>0.001274</td>\n",
              "      <td>-0.029005</td>\n",
              "      <td>-0.022072</td>\n",
              "    </tr>\n",
              "  </tbody>\n",
              "</table>\n",
              "<p>10 rows × 106 columns</p>\n",
              "</div>"
            ],
            "text/plain": [
              "                             SK_ID_CURR    TARGET  CNT_CHILDREN  \\\n",
              "TARGET                         0.015474  1.000000     -0.019993   \n",
              "DAYS_EMPLOYED                 -0.011304  0.062950      0.014600   \n",
              "REGION_RATING_CLIENT_W_CITY   -0.003637  0.061214      0.018380   \n",
              "FLAG_DOCUMENT_3               -0.017875  0.054269      0.009947   \n",
              "REGION_RATING_CLIENT          -0.003452  0.053614      0.015053   \n",
              "DAYS_BIRTH                     0.006310  0.041108      0.175747   \n",
              "AMT_REQ_CREDIT_BUREAU_YEAR    -0.017236  0.033832     -0.035499   \n",
              "OBS_30_CNT_SOCIAL_CIRCLE       0.005568  0.031041      0.008031   \n",
              "OBS_60_CNT_SOCIAL_CIRCLE       0.005495  0.030730      0.007668   \n",
              "OWN_CAR_AGE                    0.000611  0.028052      0.008337   \n",
              "\n",
              "                             AMT_INCOME_TOTAL  AMT_CREDIT  AMT_ANNUITY  \\\n",
              "TARGET                              -0.039762   -0.014634    -0.000765   \n",
              "DAYS_EMPLOYED                       -0.028260   -0.068760    -0.058623   \n",
              "REGION_RATING_CLIENT_W_CITY         -0.220782   -0.112522    -0.142749   \n",
              "FLAG_DOCUMENT_3                     -0.098321    0.076155     0.056177   \n",
              "REGION_RATING_CLIENT                -0.207276   -0.108125    -0.131777   \n",
              "DAYS_BIRTH                          -0.119206   -0.198152    -0.151530   \n",
              "AMT_REQ_CREDIT_BUREAU_YEAR          -0.007158   -0.057768    -0.004702   \n",
              "OBS_30_CNT_SOCIAL_CIRCLE            -0.063613   -0.026006    -0.040282   \n",
              "OBS_60_CNT_SOCIAL_CIRCLE            -0.063459   -0.025458    -0.039380   \n",
              "OWN_CAR_AGE                         -0.120090   -0.078948    -0.090073   \n",
              "\n",
              "                             AMT_GOODS_PRICE  REGION_POPULATION_RELATIVE  \\\n",
              "TARGET                             -0.021950                   -0.021225   \n",
              "DAYS_EMPLOYED                      -0.071172                    0.004597   \n",
              "REGION_RATING_CLIENT_W_CITY        -0.112101                   -0.569545   \n",
              "FLAG_DOCUMENT_3                     0.054159                   -0.153716   \n",
              "REGION_RATING_CLIENT               -0.108693                   -0.595022   \n",
              "DAYS_BIRTH                         -0.198316                   -0.060821   \n",
              "AMT_REQ_CREDIT_BUREAU_YEAR         -0.061785                   -0.035349   \n",
              "OBS_30_CNT_SOCIAL_CIRCLE           -0.027548                   -0.050619   \n",
              "OBS_60_CNT_SOCIAL_CIRCLE           -0.027053                   -0.050523   \n",
              "OWN_CAR_AGE                        -0.086201                   -0.083134   \n",
              "\n",
              "                             DAYS_BIRTH  DAYS_EMPLOYED  ...  FLAG_DOCUMENT_18  \\\n",
              "TARGET                         0.041108       0.062950  ...         -0.006139   \n",
              "DAYS_EMPLOYED                  0.325117       1.000000  ...          0.014636   \n",
              "REGION_RATING_CLIENT_W_CITY    0.044376      -0.013937  ...         -0.011761   \n",
              "FLAG_DOCUMENT_3               -0.013433      -0.028240  ...         -0.012787   \n",
              "REGION_RATING_CLIENT           0.042951      -0.029713  ...         -0.007073   \n",
              "DAYS_BIRTH                     1.000000       0.325117  ...          0.011746   \n",
              "AMT_REQ_CREDIT_BUREAU_YEAR    -0.047330      -0.007192  ...         -0.051322   \n",
              "OBS_30_CNT_SOCIAL_CIRCLE       0.050040       0.007849  ...          0.000688   \n",
              "OBS_60_CNT_SOCIAL_CIRCLE       0.049631       0.007630  ...          0.000899   \n",
              "OWN_CAR_AGE                    0.030548       0.020314  ...         -0.003889   \n",
              "\n",
              "                             FLAG_DOCUMENT_19  FLAG_DOCUMENT_20  \\\n",
              "TARGET                               0.013976         -0.008259   \n",
              "DAYS_EMPLOYED                        0.014895          0.018351   \n",
              "REGION_RATING_CLIENT_W_CITY         -0.006496          0.009604   \n",
              "FLAG_DOCUMENT_3                      0.007421          0.008448   \n",
              "REGION_RATING_CLIENT                -0.008745          0.006085   \n",
              "DAYS_BIRTH                           0.002631         -0.002663   \n",
              "AMT_REQ_CREDIT_BUREAU_YEAR          -0.004909         -0.007816   \n",
              "OBS_30_CNT_SOCIAL_CIRCLE            -0.008341          0.007579   \n",
              "OBS_60_CNT_SOCIAL_CIRCLE            -0.008228          0.007875   \n",
              "OWN_CAR_AGE                         -0.010158         -0.016241   \n",
              "\n",
              "                             FLAG_DOCUMENT_21  AMT_REQ_CREDIT_BUREAU_HOUR  \\\n",
              "TARGET                              -0.003892                    0.012156   \n",
              "DAYS_EMPLOYED                        0.001814                   -0.001194   \n",
              "REGION_RATING_CLIENT_W_CITY         -0.012433                   -0.012010   \n",
              "FLAG_DOCUMENT_3                     -0.020946                    0.013618   \n",
              "REGION_RATING_CLIENT                -0.013628                   -0.011263   \n",
              "DAYS_BIRTH                           0.019658                    0.009544   \n",
              "AMT_REQ_CREDIT_BUREAU_YEAR          -0.002236                   -0.008433   \n",
              "OBS_30_CNT_SOCIAL_CIRCLE            -0.009392                   -0.000287   \n",
              "OBS_60_CNT_SOCIAL_CIRCLE            -0.009353                    0.000260   \n",
              "OWN_CAR_AGE                         -0.002735                    0.003118   \n",
              "\n",
              "                             AMT_REQ_CREDIT_BUREAU_DAY  \\\n",
              "TARGET                                        0.014616   \n",
              "DAYS_EMPLOYED                                 0.025302   \n",
              "REGION_RATING_CLIENT_W_CITY                  -0.011832   \n",
              "FLAG_DOCUMENT_3                               0.011923   \n",
              "REGION_RATING_CLIENT                         -0.011292   \n",
              "DAYS_BIRTH                                    0.018687   \n",
              "AMT_REQ_CREDIT_BUREAU_YEAR                    0.003018   \n",
              "OBS_30_CNT_SOCIAL_CIRCLE                     -0.016297   \n",
              "OBS_60_CNT_SOCIAL_CIRCLE                     -0.017071   \n",
              "OWN_CAR_AGE                                  -0.001610   \n",
              "\n",
              "                             AMT_REQ_CREDIT_BUREAU_WEEK  \\\n",
              "TARGET                                         0.015000   \n",
              "DAYS_EMPLOYED                                  0.004644   \n",
              "REGION_RATING_CLIENT_W_CITY                   -0.008654   \n",
              "FLAG_DOCUMENT_3                                0.029727   \n",
              "REGION_RATING_CLIENT                          -0.013445   \n",
              "DAYS_BIRTH                                     0.003329   \n",
              "AMT_REQ_CREDIT_BUREAU_YEAR                     0.024866   \n",
              "OBS_30_CNT_SOCIAL_CIRCLE                       0.017086   \n",
              "OBS_60_CNT_SOCIAL_CIRCLE                       0.017579   \n",
              "OWN_CAR_AGE                                   -0.008410   \n",
              "\n",
              "                             AMT_REQ_CREDIT_BUREAU_MON  \\\n",
              "TARGET                                       -0.004202   \n",
              "DAYS_EMPLOYED                                -0.014233   \n",
              "REGION_RATING_CLIENT_W_CITY                  -0.060312   \n",
              "FLAG_DOCUMENT_3                               0.000599   \n",
              "REGION_RATING_CLIENT                         -0.064634   \n",
              "DAYS_BIRTH                                   -0.036862   \n",
              "AMT_REQ_CREDIT_BUREAU_YEAR                   -0.010767   \n",
              "OBS_30_CNT_SOCIAL_CIRCLE                     -0.002827   \n",
              "OBS_60_CNT_SOCIAL_CIRCLE                     -0.002784   \n",
              "OWN_CAR_AGE                                   0.001274   \n",
              "\n",
              "                             AMT_REQ_CREDIT_BUREAU_QRT  \\\n",
              "TARGET                                        0.016465   \n",
              "DAYS_EMPLOYED                                 0.025230   \n",
              "REGION_RATING_CLIENT_W_CITY                   0.035933   \n",
              "FLAG_DOCUMENT_3                               0.028691   \n",
              "REGION_RATING_CLIENT                          0.027296   \n",
              "DAYS_BIRTH                                   -0.014376   \n",
              "AMT_REQ_CREDIT_BUREAU_YEAR                    0.088951   \n",
              "OBS_30_CNT_SOCIAL_CIRCLE                      0.001656   \n",
              "OBS_60_CNT_SOCIAL_CIRCLE                      0.000244   \n",
              "OWN_CAR_AGE                                  -0.029005   \n",
              "\n",
              "                             AMT_REQ_CREDIT_BUREAU_YEAR  \n",
              "TARGET                                         0.033832  \n",
              "DAYS_EMPLOYED                                 -0.007192  \n",
              "REGION_RATING_CLIENT_W_CITY                    0.047404  \n",
              "FLAG_DOCUMENT_3                                0.043488  \n",
              "REGION_RATING_CLIENT                           0.048630  \n",
              "DAYS_BIRTH                                    -0.047330  \n",
              "AMT_REQ_CREDIT_BUREAU_YEAR                     1.000000  \n",
              "OBS_30_CNT_SOCIAL_CIRCLE                       0.045845  \n",
              "OBS_60_CNT_SOCIAL_CIRCLE                       0.046538  \n",
              "OWN_CAR_AGE                                   -0.022072  \n",
              "\n",
              "[10 rows x 106 columns]"
            ]
          },
          "metadata": {
            "tags": []
          },
          "execution_count": 54
        }
      ]
    },
    {
      "cell_type": "code",
      "metadata": {
        "id": "vi7WEj8vt9n6"
      },
      "source": [
        ""
      ],
      "execution_count": null,
      "outputs": []
    }
  ]
}